{
 "cells": [
  {
   "cell_type": "code",
   "execution_count": 1,
   "id": "27ce02ea-d456-4eb3-860c-64eb8665e250",
   "metadata": {},
   "outputs": [],
   "source": [
    "import iplantuml"
   ]
  },
  {
   "cell_type": "markdown",
   "id": "0eb0897e-edac-4370-bb72-97c73d0ce885",
   "metadata": {},
   "source": [
    "# Step 1 - Components"
   ]
  },
  {
   "cell_type": "code",
   "execution_count": 2,
   "id": "4bc559a1-f44b-4ed8-a633-33f5ca1273b6",
   "metadata": {},
   "outputs": [
    {
     "name": "stdout",
     "output_type": "stream",
     "text": [
      "Writing output for /home/jovyan/model/basics/f8bb5aea-1dc0-4bf8-9abd-b14478a46716.uml to f8bb5aea-1dc0-4bf8-9abd-b14478a46716.svg\n"
     ]
    },
    {
     "data": {
      "image/svg+xml": [
       "<svg xmlns=\"http://www.w3.org/2000/svg\" xmlns:xlink=\"http://www.w3.org/1999/xlink\" contentStyleType=\"text/css\" height=\"59px\" preserveAspectRatio=\"none\" style=\"width:243px;height:59px;background:#FFFFFF;\" version=\"1.1\" viewBox=\"0 0 243 59\" width=\"243px\" zoomAndPan=\"magnify\"><defs/><g><!--entity Table--><g id=\"elem_Table\"><rect fill=\"#F1F1F1\" height=\"46.2969\" rx=\"2.5\" ry=\"2.5\" style=\"stroke:#181818;stroke-width:0.5;\" width=\"78.5205\" x=\"7\" y=\"7\"/><rect fill=\"#F1F1F1\" height=\"10\" style=\"stroke:#181818;stroke-width:0.5;\" width=\"15\" x=\"65.5205\" y=\"12\"/><rect fill=\"#F1F1F1\" height=\"2\" style=\"stroke:#181818;stroke-width:0.5;\" width=\"4\" x=\"63.5205\" y=\"14\"/><rect fill=\"#F1F1F1\" height=\"2\" style=\"stroke:#181818;stroke-width:0.5;\" width=\"4\" x=\"63.5205\" y=\"18\"/><text fill=\"#000000\" font-family=\"sans-serif\" font-size=\"14\" lengthAdjust=\"spacing\" textLength=\"38.5205\" x=\"22\" y=\"39.9951\">Table</text></g><!--entity ScatterPlot--><g id=\"elem_ScatterPlot\"><rect fill=\"#F1F1F1\" height=\"46.2969\" rx=\"2.5\" ry=\"2.5\" style=\"stroke:#181818;stroke-width:0.5;\" width=\"116.8975\" x=\"120.81\" y=\"7\"/><rect fill=\"#F1F1F1\" height=\"10\" style=\"stroke:#181818;stroke-width:0.5;\" width=\"15\" x=\"217.7075\" y=\"12\"/><rect fill=\"#F1F1F1\" height=\"2\" style=\"stroke:#181818;stroke-width:0.5;\" width=\"4\" x=\"215.7075\" y=\"14\"/><rect fill=\"#F1F1F1\" height=\"2\" style=\"stroke:#181818;stroke-width:0.5;\" width=\"4\" x=\"215.7075\" y=\"18\"/><text fill=\"#000000\" font-family=\"sans-serif\" font-size=\"14\" lengthAdjust=\"spacing\" textLength=\"76.8975\" x=\"135.81\" y=\"39.9951\">ScatterPlot</text></g><!--SRC=[Ymv9JCf9ZUMA3avEB2b9BGh8oI-91G00]--></g></svg>"
      ],
      "text/plain": [
       "<IPython.core.display.SVG object>"
      ]
     },
     "execution_count": 2,
     "metadata": {},
     "output_type": "execute_result"
    }
   ],
   "source": [
    "%%plantuml\n",
    "\n",
    "@startuml\n",
    "\n",
    "[Table]\n",
    "[ScatterPlot]\n",
    "\n",
    "@enduml"
   ]
  },
  {
   "cell_type": "code",
   "execution_count": 3,
   "id": "2192dabb-c879-4863-bb9e-3b70d0a856e3",
   "metadata": {},
   "outputs": [
    {
     "name": "stdout",
     "output_type": "stream",
     "text": [
      "Writing output for /home/jovyan/model/basics/ce180954-a8ca-4059-a505-cec0f81ae3db.uml to ce180954-a8ca-4059-a505-cec0f81ae3db.svg\n"
     ]
    },
    {
     "data": {
      "image/svg+xml": [
       "<svg xmlns=\"http://www.w3.org/2000/svg\" xmlns:xlink=\"http://www.w3.org/1999/xlink\" contentStyleType=\"text/css\" height=\"68px\" preserveAspectRatio=\"none\" style=\"width:295px;height:68px;background:#FFFFFF;\" version=\"1.1\" viewBox=\"0 0 295 68\" width=\"295px\" zoomAndPan=\"magnify\"><defs/><g><!--entity Table--><g id=\"elem_Table\"><rect fill=\"#F1F1F1\" height=\"46.2969\" rx=\"2.5\" ry=\"2.5\" style=\"stroke:#181818;stroke-width:0.5;\" width=\"78.5205\" x=\"7\" y=\"7\"/><rect fill=\"#F1F1F1\" height=\"10\" style=\"stroke:#181818;stroke-width:0.5;\" width=\"15\" x=\"65.5205\" y=\"12\"/><rect fill=\"#F1F1F1\" height=\"2\" style=\"stroke:#181818;stroke-width:0.5;\" width=\"4\" x=\"63.5205\" y=\"14\"/><rect fill=\"#F1F1F1\" height=\"2\" style=\"stroke:#181818;stroke-width:0.5;\" width=\"4\" x=\"63.5205\" y=\"18\"/><text fill=\"#000000\" font-family=\"sans-serif\" font-size=\"14\" lengthAdjust=\"spacing\" textLength=\"38.5205\" x=\"22\" y=\"39.9951\">Table</text></g><!--entity DataFlow--><g id=\"elem_DataFlow\"><ellipse cx=\"129.26\" cy=\"30.15\" fill=\"#F1F1F1\" rx=\"8\" ry=\"8\" style=\"stroke:#181818;stroke-width:0.5;\"/><text fill=\"#000000\" font-family=\"sans-serif\" font-size=\"14\" lengthAdjust=\"spacing\" textLength=\"65.3857\" x=\"96.5671\" y=\"60.1451\">DataFlow</text></g><!--entity ScatterPlot--><g id=\"elem_ScatterPlot\"><rect fill=\"#F1F1F1\" height=\"46.2969\" rx=\"2.5\" ry=\"2.5\" style=\"stroke:#181818;stroke-width:0.5;\" width=\"116.8975\" x=\"172.81\" y=\"7\"/><rect fill=\"#F1F1F1\" height=\"10\" style=\"stroke:#181818;stroke-width:0.5;\" width=\"15\" x=\"269.7075\" y=\"12\"/><rect fill=\"#F1F1F1\" height=\"2\" style=\"stroke:#181818;stroke-width:0.5;\" width=\"4\" x=\"267.7075\" y=\"14\"/><rect fill=\"#F1F1F1\" height=\"2\" style=\"stroke:#181818;stroke-width:0.5;\" width=\"4\" x=\"267.7075\" y=\"18\"/><text fill=\"#000000\" font-family=\"sans-serif\" font-size=\"14\" lengthAdjust=\"spacing\" textLength=\"76.8975\" x=\"187.81\" y=\"39.9951\">ScatterPlot</text></g><!--link Table to DataFlow--><g id=\"link_Table_DataFlow\"><path d=\"M85.81,30.15 C97.24,30.15 98.67,30.15 110.1,30.15 \" fill=\"none\" id=\"Table-to-DataFlow\" style=\"stroke:#181818;stroke-width:1.0;\"/><path d=\"M117.0218,21.6928 A9,9 0 0 0 117.0218 38.6072\" fill=\"none\" style=\"stroke:#181818;stroke-width:1.5;\"/></g><!--link DataFlow to ScatterPlot--><g id=\"link_DataFlow_ScatterPlot\"><path d=\"M138.42,30.15 C149.79,30.15 161.15,30.15 172.51,30.15 \" fill=\"none\" id=\"DataFlow-ScatterPlot\" style=\"stroke:#181818;stroke-width:1.0;\"/></g><!--SRC=[Ymv9JCf9ZLNGrL1mIIn9TCl9B-U2CHHq5QA3anDBIbAB0dBoIs81]--></g></svg>"
      ],
      "text/plain": [
       "<IPython.core.display.SVG object>"
      ]
     },
     "execution_count": 3,
     "metadata": {},
     "output_type": "execute_result"
    }
   ],
   "source": [
    "%%plantuml\n",
    "\n",
    "@startuml\n",
    "\n",
    "[Table] -( DataFlow\n",
    "DataFlow - [ScatterPlot]\n",
    "\n",
    "@enduml"
   ]
  },
  {
   "cell_type": "code",
   "execution_count": 4,
   "id": "1c4ebaef-1c49-4c40-b3dd-e1164675431f",
   "metadata": {},
   "outputs": [
    {
     "name": "stdout",
     "output_type": "stream",
     "text": [
      "Writing output for /home/jovyan/model/basics/96b2bdc1-05ed-448a-8bce-59ba936325f4.uml to 96b2bdc1-05ed-448a-8bce-59ba936325f4.svg\n"
     ]
    },
    {
     "data": {
      "image/svg+xml": [
       "<svg xmlns=\"http://www.w3.org/2000/svg\" xmlns:xlink=\"http://www.w3.org/1999/xlink\" contentStyleType=\"text/css\" height=\"155px\" preserveAspectRatio=\"none\" style=\"width:297px;height:155px;background:#FFFFFF;\" version=\"1.1\" viewBox=\"0 0 297 155\" width=\"297px\" zoomAndPan=\"magnify\"><defs/><g><!--cluster Table--><g id=\"cluster_Table\"><rect fill=\"none\" height=\"121\" rx=\"2.5\" ry=\"2.5\" style=\"stroke:#181818;stroke-width:1.0;\" width=\"73\" x=\"7\" y=\"7\"/><rect fill=\"none\" height=\"10\" style=\"stroke:#181818;stroke-width:1.0;\" width=\"15\" x=\"60\" y=\"12\"/><rect fill=\"none\" height=\"2\" style=\"stroke:#181818;stroke-width:1.0;\" width=\"4\" x=\"58\" y=\"14\"/><rect fill=\"none\" height=\"2\" style=\"stroke:#181818;stroke-width:1.0;\" width=\"4\" x=\"58\" y=\"18\"/><text fill=\"#000000\" font-family=\"sans-serif\" font-size=\"14\" font-weight=\"bold\" lengthAdjust=\"spacing\" textLength=\"43.3125\" x=\"21.8438\" y=\"32.9951\">Table</text></g><!--cluster ScatterPlot--><g id=\"cluster_ScatterPlot\"><rect fill=\"none\" height=\"121\" rx=\"2.5\" ry=\"2.5\" style=\"stroke:#181818;stroke-width:1.0;\" width=\"130\" x=\"161\" y=\"7\"/><rect fill=\"none\" height=\"10\" style=\"stroke:#181818;stroke-width:1.0;\" width=\"15\" x=\"271\" y=\"12\"/><rect fill=\"none\" height=\"2\" style=\"stroke:#181818;stroke-width:1.0;\" width=\"4\" x=\"269\" y=\"14\"/><rect fill=\"none\" height=\"2\" style=\"stroke:#181818;stroke-width:1.0;\" width=\"4\" x=\"269\" y=\"18\"/><text fill=\"#000000\" font-family=\"sans-serif\" font-size=\"14\" font-weight=\"bold\" lengthAdjust=\"spacing\" textLength=\"88.9834\" x=\"181.5083\" y=\"32.9951\">ScatterPlot</text></g><text fill=\"#000000\" font-family=\"sans-serif\" font-size=\"14\" lengthAdjust=\"spacing\" textLength=\"60.1494\" x=\"31.9253\" y=\"146.9951\">file_path</text><rect fill=\"#F1F1F1\" height=\"12\" style=\"stroke:#181818;stroke-width:1.5;\" width=\"12\" x=\"56\" y=\"122\"/><text fill=\"#000000\" font-family=\"sans-serif\" font-size=\"14\" lengthAdjust=\"spacing\" textLength=\"38.4932\" x=\"159.7534\" y=\"146.9951\">xfield</text><rect fill=\"#F1F1F1\" height=\"12\" style=\"stroke:#181818;stroke-width:1.5;\" width=\"12\" x=\"173\" y=\"122\"/><text fill=\"#000000\" font-family=\"sans-serif\" font-size=\"14\" lengthAdjust=\"spacing\" textLength=\"38.4932\" x=\"206.7534\" y=\"146.9951\">yfield</text><rect fill=\"#F1F1F1\" height=\"12\" style=\"stroke:#181818;stroke-width:1.5;\" width=\"12\" x=\"220\" y=\"122\"/><text fill=\"#000000\" font-family=\"sans-serif\" font-size=\"14\" lengthAdjust=\"spacing\" textLength=\"27.3711\" x=\"259.3145\" y=\"146.9951\">title</text><rect fill=\"#F1F1F1\" height=\"12\" style=\"stroke:#181818;stroke-width:1.5;\" width=\"12\" x=\"267\" y=\"122\"/><!--entity DataFlow--><g id=\"elem_DataFlow\"><ellipse cx=\"140\" cy=\"40.5\" fill=\"#F1F1F1\" rx=\"8\" ry=\"8\" style=\"stroke:#181818;stroke-width:0.5;\"/><text fill=\"#000000\" font-family=\"sans-serif\" font-size=\"14\" lengthAdjust=\"spacing\" textLength=\"65.3857\" x=\"107.3071\" y=\"70.4951\">DataFlow</text></g><!--link Table to DataFlow--><g id=\"link_Table_DataFlow\"><path d=\"M90.93,40.5 C104.22,40.5 107.51,40.5 120.8,40.5 \" fill=\"none\" id=\"Table-to-DataFlow\" style=\"stroke:#181818;stroke-width:1.0;\"/><path d=\"M127.7218,32.0428 A9,9 0 0 0 127.7218 48.9572\" fill=\"none\" style=\"stroke:#181818;stroke-width:1.5;\"/></g><!--link DataFlow to ScatterPlot--><g id=\"link_DataFlow_ScatterPlot\"><path d=\"M149.47,40.5 C152.7475,40.5 156.025,40.5 159.3025,40.5 C159.7122,40.5 160.1219,40.5 160.5316,40.5 C160.634,40.5 160.7364,40.5 160.8388,40.5 C160.89,40.5 160.9413,40.5 160.9925,40.5 \" fill=\"none\" id=\"DataFlow-ScatterPlot\" style=\"stroke:#181818;stroke-width:1.0;\"/></g><!--SRC=[ROt12i8m44Jl-OejzD0S-XVYMT1RAR8cMmniio5igKNyTsj12UfjUCoygL8MHtxA1FKQ4sLTcZhYIDO09Cagay86J4NHV-h6E1cJH8eA9xmmmNqTG64P0jCveLwjUPXkw_JGDh13nJtBN1gE3bKf7rZqntCR0h6tNtJvIpKeq-llVG8jT8MyVm80]--></g></svg>"
      ],
      "text/plain": [
       "<IPython.core.display.SVG object>"
      ]
     },
     "execution_count": 4,
     "metadata": {},
     "output_type": "execute_result"
    }
   ],
   "source": [
    "%%plantuml\n",
    "\n",
    "@startuml\n",
    "\n",
    "!procedure $property($name)\n",
    "  portout $name\n",
    "!endprocedure\n",
    "\n",
    "component Table {\n",
    "    $property(file_path)\n",
    "}\n",
    "[Table] -( DataFlow\n",
    "\n",
    "component ScatterPlot {\n",
    "    $property(xfield)\n",
    "    $property(yfield)\n",
    "    $property(title)\n",
    "}\n",
    "DataFlow - [ScatterPlot]\n",
    "\n",
    "@enduml"
   ]
  },
  {
   "cell_type": "code",
   "execution_count": 11,
   "id": "72a23897-bfd6-40e7-94aa-030453396b01",
   "metadata": {},
   "outputs": [
    {
     "name": "stdout",
     "output_type": "stream",
     "text": [
      "Writing output for /home/jovyan/model/basics/73fcfaeb-4851-472e-8a5c-371b646442a9.uml to 73fcfaeb-4851-472e-8a5c-371b646442a9.svg\n"
     ]
    },
    {
     "data": {
      "image/svg+xml": [
       "<svg xmlns=\"http://www.w3.org/2000/svg\" xmlns:xlink=\"http://www.w3.org/1999/xlink\" contentStyleType=\"text/css\" height=\"229px\" preserveAspectRatio=\"none\" style=\"width:887px;height:229px;background:#FFFFFF;\" version=\"1.1\" viewBox=\"0 0 887 229\" width=\"887px\" zoomAndPan=\"magnify\"><defs/><g><!--cluster csv1--><g id=\"cluster_csv1\"><rect fill=\"none\" height=\"134.65\" rx=\"2.5\" ry=\"2.5\" style=\"stroke:#181818;stroke-width:1.0;\" width=\"86\" x=\"7\" y=\"66.87\"/><rect fill=\"none\" height=\"10\" style=\"stroke:#181818;stroke-width:1.0;\" width=\"15\" x=\"73\" y=\"71.87\"/><rect fill=\"none\" height=\"2\" style=\"stroke:#181818;stroke-width:1.0;\" width=\"4\" x=\"71\" y=\"73.87\"/><rect fill=\"none\" height=\"2\" style=\"stroke:#181818;stroke-width:1.0;\" width=\"4\" x=\"71\" y=\"77.87\"/><text fill=\"#000000\" font-family=\"sans-serif\" font-size=\"14\" font-weight=\"bold\" lengthAdjust=\"spacing\" textLength=\"70.9365\" x=\"14.5317\" y=\"92.8651\">ReadCSV</text></g><!--cluster SelectRows--><g id=\"cluster_SelectRows\"><rect fill=\"none\" height=\"134.65\" rx=\"2.5\" ry=\"2.5\" style=\"stroke:#181818;stroke-width:1.0;\" width=\"100\" x=\"191\" y=\"66.87\"/><rect fill=\"none\" height=\"10\" style=\"stroke:#181818;stroke-width:1.0;\" width=\"15\" x=\"271\" y=\"71.87\"/><rect fill=\"none\" height=\"2\" style=\"stroke:#181818;stroke-width:1.0;\" width=\"4\" x=\"269\" y=\"73.87\"/><rect fill=\"none\" height=\"2\" style=\"stroke:#181818;stroke-width:1.0;\" width=\"4\" x=\"269\" y=\"77.87\"/><text fill=\"#000000\" font-family=\"sans-serif\" font-size=\"14\" font-weight=\"bold\" lengthAdjust=\"spacing\" textLength=\"90.5283\" x=\"195.7358\" y=\"92.8651\">SelectRows</text></g><!--cluster MergeData--><g id=\"cluster_MergeData\"><rect fill=\"none\" height=\"134.65\" rx=\"2.5\" ry=\"2.5\" style=\"stroke:#181818;stroke-width:1.0;\" width=\"99.5\" x=\"534\" y=\"66.87\"/><rect fill=\"none\" height=\"10\" style=\"stroke:#181818;stroke-width:1.0;\" width=\"15\" x=\"613.5\" y=\"71.87\"/><rect fill=\"none\" height=\"2\" style=\"stroke:#181818;stroke-width:1.0;\" width=\"4\" x=\"611.5\" y=\"73.87\"/><rect fill=\"none\" height=\"2\" style=\"stroke:#181818;stroke-width:1.0;\" width=\"4\" x=\"611.5\" y=\"77.87\"/><text fill=\"#000000\" font-family=\"sans-serif\" font-size=\"14\" font-weight=\"bold\" lengthAdjust=\"spacing\" textLength=\"87.0557\" x=\"540.2222\" y=\"92.8651\">MergeData</text></g><!--cluster BoxPlot--><g id=\"cluster_BoxPlot\"><rect fill=\"none\" height=\"134.65\" rx=\"2.5\" ry=\"2.5\" style=\"stroke:#181818;stroke-width:1.0;\" width=\"125\" x=\"753\" y=\"66.87\"/><rect fill=\"none\" height=\"10\" style=\"stroke:#181818;stroke-width:1.0;\" width=\"15\" x=\"858\" y=\"71.87\"/><rect fill=\"none\" height=\"2\" style=\"stroke:#181818;stroke-width:1.0;\" width=\"4\" x=\"856\" y=\"73.87\"/><rect fill=\"none\" height=\"2\" style=\"stroke:#181818;stroke-width:1.0;\" width=\"4\" x=\"856\" y=\"77.87\"/><text fill=\"#000000\" font-family=\"sans-serif\" font-size=\"14\" font-weight=\"bold\" lengthAdjust=\"spacing\" textLength=\"60.6895\" x=\"785.1553\" y=\"92.8651\">BoxPlot</text></g><text fill=\"#000000\" font-family=\"sans-serif\" font-size=\"14\" lengthAdjust=\"spacing\" textLength=\"60.1494\" x=\"44.9253\" y=\"220.5151\">file_path</text><rect fill=\"#F1F1F1\" height=\"12\" style=\"stroke:#181818;stroke-width:1.5;\" width=\"12\" x=\"69\" y=\"195.52\"/><!--entity csv2--><g id=\"elem_csv2\"><rect fill=\"#F1F1F1\" height=\"46.2969\" rx=\"2.5\" ry=\"2.5\" style=\"stroke:#181818;stroke-width:0.5;\" width=\"104.0459\" x=\"360.98\" y=\"77.22\"/><rect fill=\"#F1F1F1\" height=\"10\" style=\"stroke:#181818;stroke-width:0.5;\" width=\"15\" x=\"445.0259\" y=\"82.22\"/><rect fill=\"#F1F1F1\" height=\"2\" style=\"stroke:#181818;stroke-width:0.5;\" width=\"4\" x=\"443.0259\" y=\"84.22\"/><rect fill=\"#F1F1F1\" height=\"2\" style=\"stroke:#181818;stroke-width:0.5;\" width=\"4\" x=\"443.0259\" y=\"88.22\"/><text fill=\"#000000\" font-family=\"sans-serif\" font-size=\"14\" lengthAdjust=\"spacing\" textLength=\"64.0459\" x=\"375.98\" y=\"110.2151\">ReadCSV</text></g><text fill=\"#000000\" font-family=\"sans-serif\" font-size=\"14\" lengthAdjust=\"spacing\" textLength=\"72.0234\" x=\"234.4883\" y=\"220.5151\">conditions</text><rect fill=\"#F1F1F1\" height=\"12\" style=\"stroke:#181818;stroke-width:1.5;\" width=\"12\" x=\"264.5\" y=\"195.52\"/><text fill=\"#000000\" font-family=\"sans-serif\" font-size=\"14\" lengthAdjust=\"spacing\" textLength=\"98.6973\" x=\"566.1514\" y=\"220.5151\">row_matching</text><rect fill=\"#F1F1F1\" height=\"12\" style=\"stroke:#181818;stroke-width:1.5;\" width=\"12\" x=\"609.5\" y=\"195.52\"/><text fill=\"#000000\" font-family=\"sans-serif\" font-size=\"14\" lengthAdjust=\"spacing\" textLength=\"41.6172\" x=\"750.1914\" y=\"220.5151\">xField</text><rect fill=\"#F1F1F1\" height=\"12\" style=\"stroke:#181818;stroke-width:1.5;\" width=\"12\" x=\"765\" y=\"195.52\"/><text fill=\"#000000\" font-family=\"sans-serif\" font-size=\"14\" lengthAdjust=\"spacing\" textLength=\"41.6172\" x=\"839.1914\" y=\"220.5151\">yField</text><rect fill=\"#F1F1F1\" height=\"12\" style=\"stroke:#181818;stroke-width:1.5;\" width=\"12\" x=\"854\" y=\"195.52\"/><!--entity dt1--><g id=\"elem_dt1\"><ellipse cx=\"166\" cy=\"100.37\" fill=\"#F1F1F1\" rx=\"8\" ry=\"8\" style=\"stroke:#181818;stroke-width:0.5;\"/><text fill=\"#000000\" font-family=\"sans-serif\" font-size=\"14\" lengthAdjust=\"spacing\" textLength=\"23.2832\" x=\"154.3584\" y=\"130.3651\">dt1</text></g><!--entity dt2--><g id=\"elem_dt2\"><ellipse cx=\"509\" cy=\"100.37\" fill=\"#F1F1F1\" rx=\"8\" ry=\"8\" style=\"stroke:#181818;stroke-width:0.5;\"/><text fill=\"#000000\" font-family=\"sans-serif\" font-size=\"14\" lengthAdjust=\"spacing\" textLength=\"23.2832\" x=\"497.3584\" y=\"130.3651\">dt2</text></g><!--entity dt4--><g id=\"elem_dt4\"><ellipse cx=\"711\" cy=\"100.37\" fill=\"#F1F1F1\" rx=\"8\" ry=\"8\" style=\"stroke:#181818;stroke-width:0.5;\"/><text fill=\"#000000\" font-family=\"sans-serif\" font-size=\"14\" lengthAdjust=\"spacing\" textLength=\"23.2832\" x=\"699.3584\" y=\"130.3651\">dt4</text></g><!--link csv1 to dt1--><g id=\"link_csv1_dt1\"><path d=\"M117.48,100.37 C130.5,100.37 133.51,100.37 146.52,100.37 \" fill=\"none\" id=\"csv1-to-dt1\" style=\"stroke:#181818;stroke-width:1.0;\"/><path d=\"M153.4418,91.9128 A9,9 0 0 0 153.4418 108.8272\" fill=\"none\" style=\"stroke:#181818;stroke-width:1.5;\"/></g><!--link dt1 to SelectRows--><g id=\"link_dt1_SelectRows\"><path d=\"M175.16,100.37 C178.455,100.37 181.75,100.37 185.0448,100.37 C186.6923,100.37 188.3396,100.37 189.987,100.37 C190.1929,100.37 190.3988,100.37 190.6047,100.37 C190.7077,100.37 190.8106,100.37 190.9136,100.37 \" fill=\"none\" id=\"dt1-SelectRows\" style=\"stroke:#181818;stroke-width:1.0;\"/></g><!--link SelectRows to dt2--><g id=\"link_SelectRows_dt2\"><path d=\"M291.1035,75.385 C291.1939,75.2974 291.2846,75.2097 291.3754,75.1219 C291.5571,74.9462 291.7396,74.7702 291.923,74.5938 C292.2898,74.2409 292.66,73.8864 293.0336,73.5305 C293.7808,72.8187 294.5415,72.1011 295.3153,71.3789 C296.8627,69.9344 298.4624,68.4713 300.1106,66.9985 C303.4071,64.053 306.8978,61.0688 310.5538,58.1175 C325.1775,46.3125 342.445,35.035 360.5,28.87 C404.66,13.79 424.82,6 465.5,28.87 C489.44,42.33 498.8862,65.3059 503.6862,81.4259 \" fill=\"none\" id=\"SelectRows-to-dt2\" style=\"stroke:#181818;stroke-width:1.0;\"/><path d=\"M513.7671,85.6463 A9,9 0 0 0 497.556 90.4734\" fill=\"none\" style=\"stroke:#181818;stroke-width:1.5;\"/></g><!--link csv2 to dt2--><g id=\"link_csv2_dt2\"><path d=\"M465.5,100.37 C476.94,100.37 478.38,100.37 489.82,100.37 \" fill=\"none\" id=\"csv2-to-dt2\" style=\"stroke:#181818;stroke-width:1.0;\"/><path d=\"M496.7418,91.9128 A9,9 0 0 0 496.7418 108.8272\" fill=\"none\" style=\"stroke:#181818;stroke-width:1.5;\"/></g><!--link dt2 to MergeData--><g id=\"link_dt2_MergeData\"><path d=\"M518.47,100.37 C521.7775,100.37 525.085,100.37 528.3925,100.37 C530.0463,100.37 531.7,100.37 533.3538,100.37 C533.5605,100.37 533.7672,100.37 533.9739,100.37 \" fill=\"none\" id=\"dt2-MergeData\" style=\"stroke:#181818;stroke-width:1.0;\"/></g><!--link MergeData to dt4--><g id=\"link_MergeData_dt4\"><path d=\"M661.68,100.37 C675.04,100.37 678.4,100.37 691.75,100.37 \" fill=\"none\" id=\"MergeData-to-dt4\" style=\"stroke:#181818;stroke-width:1.0;\"/><path d=\"M698.6718,91.9128 A9,9 0 0 0 698.6718 108.8272\" fill=\"none\" style=\"stroke:#181818;stroke-width:1.5;\"/></g><!--link dt4 to BoxPlot--><g id=\"link_dt4_BoxPlot\"><path d=\"M720.34,100.37 C729.71,100.37 739.0775,100.37 748.445,100.37 C749.6159,100.37 750.7869,100.37 751.9578,100.37 C752.2506,100.37 752.5433,100.37 752.836,100.37 \" fill=\"none\" id=\"dt4-BoxPlot\" style=\"stroke:#181818;stroke-width:1.0;\"/></g><!--SRC=[ZO_1Yi9038RlUOfOFDY31ujFi8etGHJs8aM6cQW3xMIOnbKHtzsfIhljGJm4al1zaty6Fh0cSmg4mzXw2d8T3PqgAGL4pq7u9FXSm82SQN00q5nwTkG4apKfCzly9gWgrDNV16_HRX_Ssu9sNianXVi7BVlAsb11MjPyhdfND3jZnRAhkiAIme7cIbIF3tpUbKhqqRf3r_ZXowfWwV6NXQN2f9tTzRsxmxR-TuxZ4HgPG2mSuxRDciF_uOLbJobhfbYrrEIDJjk_e6c4fZNqZfW_0000]--></g></svg>"
      ],
      "text/plain": [
       "<IPython.core.display.SVG object>"
      ]
     },
     "execution_count": 11,
     "metadata": {},
     "output_type": "execute_result"
    }
   ],
   "source": [
    "%%plantuml\n",
    "\n",
    "@startuml\n",
    "\n",
    "!procedure $property($name)\n",
    "  portout $name\n",
    "!endprocedure\n",
    "\n",
    "\n",
    "component \"ReadCSV\" as csv1 {\n",
    "  $property(file_path)\n",
    "}\n",
    "component \"ReadCSV\" as csv2{\n",
    "  $property(file_path)\n",
    "}\n",
    "component SelectRows {\n",
    "  $property(conditions)\n",
    "}\n",
    "component MergeData {\n",
    "  $property(row_matching)\n",
    "}\n",
    "component BoxPlot {\n",
    "  $property(xField)\n",
    "  $property(yField)\n",
    "}\n",
    "[csv1] -( dt1\n",
    "dt1 - [SelectRows]\n",
    "[SelectRows] -( dt2\n",
    "[csv2] -( dt2\n",
    "dt2 - [MergeData]\n",
    "[MergeData] -( dt4\n",
    "dt4 - [BoxPlot]\n",
    "@enduml\n"
   ]
  }
 ],
 "metadata": {
  "kernelspec": {
   "display_name": "Python 3 (ipykernel)",
   "language": "python",
   "name": "python3"
  },
  "language_info": {
   "codemirror_mode": {
    "name": "ipython",
    "version": 3
   },
   "file_extension": ".py",
   "mimetype": "text/x-python",
   "name": "python",
   "nbconvert_exporter": "python",
   "pygments_lexer": "ipython3",
   "version": "3.10.14"
  }
 },
 "nbformat": 4,
 "nbformat_minor": 5
}
